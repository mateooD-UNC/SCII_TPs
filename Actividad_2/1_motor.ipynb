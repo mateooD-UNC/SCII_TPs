{
 "cells": [
  {
   "cell_type": "markdown",
   "metadata": {},
   "source": [
    "# Actividad 2"
   ]
  },
  {
   "cell_type": "markdown",
   "metadata": {},
   "source": [
    "Partiendo de las ecuaciones de motor y parametros calculados en el trabajo practico anterior\n",
    "\n",
    "$   LAA=7.14e-04 ;\n",
    "    J=3.1210e-06; \n",
    "    Ra=27; \n",
    "    B=0; \n",
    "    Ki= \n",
    "    Km= \n",
    "$\n",
    "\n",
    "\n",
    "Modelado por las siguientes Ecuaciones diferenciales:\n",
    "\n",
    "$\\frac{di_a}{dt}=\\frac{R_A}{L_{AA}}ia-\\frac{K_m}{L_{AA}}\\omega _r+\\frac{1}{L_{AA}}Va $\n",
    "\n",
    "$ \\frac{d\\omega_r}{dt}=\\frac{K_i}{J}ia-\\frac{B_m}{J}\\omega _r+\\frac{1}{J}T_L $\n",
    "\n",
    "$ \\frac{d\\theta _t}{dt}=\\omega _r $"
   ]
  }
 ],
 "metadata": {
  "language_info": {
   "name": "python"
  }
 },
 "nbformat": 4,
 "nbformat_minor": 2
}

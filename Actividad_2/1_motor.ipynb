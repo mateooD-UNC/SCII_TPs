{
 "cells": [
  {
   "cell_type": "markdown",
   "metadata": {},
   "source": [
    "# Actividad 2"
   ]
  },
  {
   "cell_type": "markdown",
   "metadata": {},
   "source": [
    "# Controlador en esquema de Espacio de estados.\n",
    "\n",
    "El objetivo de este trabajo es realizar un controlador pero en este caso partiendo de la base de un esquema de ESPACIO DE ESTADOS."
   ]
  },
  {
   "cell_type": "markdown",
   "metadata": {},
   "source": [
    "## Caso 1 - Motor CC"
   ]
  },
  {
   "cell_type": "markdown",
   "metadata": {},
   "source": [
    "Partiendo de las ecuaciones de motor y parametros calculados en el trabajo practico anterior\n",
    "\n",
    "$   LAA=7.14e-04 ;\n",
    "    J=3.1210e-06; \n",
    "    Ra=27; \n",
    "    B=0; \n",
    "    Ki=16.5 \n",
    "    Km= 0.0606\n",
    "$\n",
    "\n",
    "\n",
    "Modelado por las siguientes Ecuaciones diferenciales:\n",
    "\n",
    "$\\frac{di_a}{dt}=\\frac{R_A}{L_{AA}}ia-\\frac{K_m}{L_{AA}}\\omega _r+\\frac{1}{L_{AA}}Va $\n",
    "\n",
    "$ \\frac{d\\omega_r}{dt}=\\frac{K_i}{J}ia-\\frac{B_m}{J}\\omega _r+\\frac{1}{J}T_L $\n",
    "\n",
    "$ \\frac{d\\theta _t}{dt}=\\omega _r $\n",
    "\n",
    "\n",
    "Podiamos modelar un controlador PID obteniendo sus constantes como : Ki=0.01 ;  Kp0.5 ; Kd=1\n"
   ]
  },
  {
   "cell_type": "markdown",
   "metadata": {},
   "source": [
    "### Espacio de estados"
   ]
  },
  {
   "cell_type": "code",
   "execution_count": 46,
   "metadata": {},
   "outputs": [],
   "source": [
    "# Importacion de librerias\n",
    "\n",
    "import numpy as np\n",
    "import control as ct\n",
    "import math\n",
    "import pandas as pd\n",
    "import matplotlib.pyplot as plt\n",
    "from control.matlab import *\n",
    "import cmath as cm\n",
    "from math import log\n",
    "import sympy as sp\n",
    "from scipy import signal\n"
   ]
  },
  {
   "cell_type": "markdown",
   "metadata": {},
   "source": [
    "A partir de las ecuaciones diferenciales modelamos en espacio de estados. Reescribiendo las ecuaciones en matrices y llevando a espacio de estados"
   ]
  },
  {
   "cell_type": "code",
   "execution_count": 47,
   "metadata": {},
   "outputs": [
    {
     "name": "stdout",
     "output_type": "stream",
     "text": [
      "A: [[-3.78151261e+04 -8.48739496e+01  0.00000000e+00]\n",
      " [ 3.26923077e+03  0.00000000e+00  0.00000000e+00]\n",
      " [ 0.00000000e+00  1.00000000e+00  0.00000000e+00]]\n",
      "B: [[1400.56022409]\n",
      " [   0.        ]\n",
      " [   0.        ]]\n",
      "C: [[0 0 1]]\n",
      "D: [[0]]\n",
      "Función de transferencia:\n",
      "TransferFunctionContinuous(\n",
      "array([ 2.18278728e-11, -2.77708750e-07,  4.57875458e+06]),\n",
      "array([1.00000000e+00, 3.78151261e+04, 2.77472527e+05, 0.00000000e+00]),\n",
      "dt: None\n",
      ")\n"
     ]
    },
    {
     "name": "stderr",
     "output_type": "stream",
     "text": [
      "/home/mateo_d/.local/lib/python3.10/site-packages/scipy/signal/_ltisys.py:600: BadCoefficients: Badly conditioned filter coefficients (numerator): the results may be meaningless\n",
      "  self.num, self.den = normalize(*system)\n"
     ]
    }
   ],
   "source": [
    "# Definir los parámetros del sistema\n",
    "R_A =27\n",
    "L_AA =7.14e-4\n",
    "K_m = 0.0606\n",
    "J = 3.12e-6\n",
    "B_m = 0\n",
    "K_i = 0.0102\n",
    "\n",
    "## Definir las matrices del sistema de espacio de estados\n",
    "A = np.array([[-R_A / L_AA, -K_m / L_AA, 0],\n",
    "              [K_i / J, -B_m / J, 0],\n",
    "              [0, 1, 0]])\n",
    "\n",
    "B = np.array([[1 / L_AA],\n",
    "              [0],\n",
    "              [0]])\n",
    "\n",
    "C = np.array([[0, 0, 1]])\n",
    "\n",
    "D = np.array([[0]])\n",
    "print('A:', A)\n",
    "print('B:', B)\n",
    "print('C:', C)\n",
    "print('D:', D)\n",
    "\n",
    "# Crear el sistema de espacio de estados\n",
    "#sys= ss(A, B, C, D)\n",
    "sys = signal.StateSpace(A, B, C,D)\n",
    "tf = sys.to_tf()\n",
    "print(\"Función de transferencia:\")\n",
    "print(tf)\n",
    "#sys_tf=ct.ss2tf(sys)\n",
    "#print('sys_tf:', sys_tf)\n",
    "\n",
    "# Función de transferencia\n",
    "\n"
   ]
  },
  {
   "cell_type": "markdown",
   "metadata": {},
   "source": [
    "## Obvservabilidad\n",
    "\n",
    "Determino si el sistema es observable. Debo construir la matriz de obvservabilidad. La cual es la siguiente:\n",
    "\n",
    "$\\begin{bmatrix}\n",
    "C\\\\\n",
    "CA \n",
    "\\\\\n",
    "CA^{n-1} \n",
    "\\end{bmatrix}$\n",
    "\n",
    "Calculo su rango , si el rango de es igual al numero de estados de el sisema , entonces el sistema es obvservable"
   ]
  },
  {
   "cell_type": "code",
   "execution_count": 48,
   "metadata": {},
   "outputs": [
    {
     "name": "stdout",
     "output_type": "stream",
     "text": [
      "Matriz de observabilidad:\n",
      " [[0.00000000e+00 0.00000000e+00 1.00000000e+00]\n",
      " [0.00000000e+00 1.00000000e+00 0.00000000e+00]\n",
      " [3.26923077e+03 0.00000000e+00 0.00000000e+00]]\n",
      "Rango de la matriz de observabilidad: 3\n",
      "El sistema es completamente observable.\n"
     ]
    }
   ],
   "source": [
    "n = A.shape[0] #numero de estados\n",
    "O = np.vstack([C @ np.linalg.matrix_power(A, i) for i in range(n)])\n",
    "print('Matriz de observabilidad:\\n', O)\n",
    "range_O = np.linalg.matrix_rank(O)\n",
    "print('Rango de la matriz de observabilidad:', range_O)\n",
    "# Verificar observabilidad\n",
    "if range_O == n:\n",
    "    print(\"El sistema es completamente observable.\")\n",
    "else:\n",
    "    print(\"El sistema no es completamente observable.\")\n"
   ]
  },
  {
   "cell_type": "markdown",
   "metadata": {},
   "source": [
    "## Controlabilidad\n",
    "Determino si el sistema es observable. Debo construir la matriz de obvservabilidad. La cual es la siguiente:\n",
    "\n",
    "$\\begin{bmatrix}\n",
    "A &AB  &A^{n-1}B \n",
    "\\end{bmatrix}$\n",
    "\n",
    "Calculo su rango , si el rango de es igual al numero de estados de el sisema , entonces el sistema es controlable\n"
   ]
  },
  {
   "cell_type": "code",
   "execution_count": 49,
   "metadata": {},
   "outputs": [
    {
     "name": "stdout",
     "output_type": "stream",
     "text": [
      "Matriz de controlabilidad:\n",
      " [[ 1.40056022e+03 -5.29623614e+07  2.00238976e+12]\n",
      " [ 0.00000000e+00  4.57875458e+06 -1.73146182e+11]\n",
      " [ 0.00000000e+00  0.00000000e+00  4.57875458e+06]]\n",
      "Rango de la matriz de controlabilidad: 3\n",
      "El sistema es completamente controlable.\n"
     ]
    }
   ],
   "source": [
    "# Calcular la matriz de controlabilidad\n",
    "n = A.shape[0]  # Número de estados\n",
    "C_ctrl = np.hstack([np.linalg.matrix_power(A, i) @ B for i in range(n)])\n",
    "\n",
    "print('Matriz de controlabilidad:\\n', C_ctrl)\n",
    "range_C_ctrl = np.linalg.matrix_rank(C_ctrl)\n",
    "print('Rango de la matriz de controlabilidad:', range_C_ctrl)\n",
    "\n",
    "# Verificar controlabilidad\n",
    "if range_C_ctrl == n:\n",
    "    print(\"El sistema es completamente controlable.\")\n",
    "else:\n",
    "    print(\"El sistema no es completamente controlable.\")\n"
   ]
  },
  {
   "cell_type": "markdown",
   "metadata": {},
   "source": [
    "## Asignacion de polos\n",
    "\n",
    "Habiendo obtenido la funcion de transferencia del sistema\n",
    "\n",
    "$G(s) = \\frac{s^2 - 2.77708750 \\times 10^{-7}s + 4.57875458 \\times 10^6}{1.00000000s^3 + 3.78151261 \\times 10^4s^2 + 2.77472527 \\times 10^5s + 2.18278728 \\times 10^{-11}}$\n",
    "\n",
    "Coincide el orden del numerador con la cantidad de estados"
   ]
  },
  {
   "cell_type": "code",
   "execution_count": 50,
   "metadata": {},
   "outputs": [
    {
     "name": "stdout",
     "output_type": "stream",
     "text": [
      "Polos del sistema abierto: [ 0.00000000e+00 -7.33903117e+00 -3.78077870e+04]\n",
      "Ganancias del controlador (Ackermann):\n",
      "[[-1.78116261e+04  6.73341415e+08 -2.54575482e+13]]\n"
     ]
    }
   ],
   "source": [
    "# Calcular los polos del sistema abierto\n",
    "poles_LA= np.linalg.eigvals(A)\n",
    "print(\"Polos del sistema abierto:\", poles_LA)  \n",
    "## Polos del sistema abierto -> (0,-7.339,-3.78e+4)\n",
    "\n",
    "\n",
    "#Forma canonica controlable\n",
    "\n",
    "#Aplico Ackermann\n",
    "\n",
    "# Convertir el sistema a su forma controlable\n",
    "T = ct.ctrb(A, B)\n",
    "T_inv = np.linalg.inv(T)\n",
    "Ac = T_inv @ A @ T\n",
    "Bc = T_inv @ B\n",
    "\n",
    "# Especificar los polos deseados\n",
    "polos_deseados = [-1.5, -2, -20000]\n",
    "\n",
    "# Calcular las ganancias del controlador utilizando el método de Ackermann\n",
    "K = ct.acker(Ac, Bc, polos_deseados)\n",
    "\n",
    "print(\"Ganancias del controlador (Ackermann):\")\n",
    "print(K)\n",
    "\n"
   ]
  },
  {
   "cell_type": "code",
   "execution_count": 51,
   "metadata": {},
   "outputs": [],
   "source": [
    "K= np.array([[-1.78116261e+04, 6.73341415e+08,-2.54575482e+13]])\n",
    "# Definir el sistema de lazo cerrado\n",
    "Ac = A - B @ K\n",
    "Bc = B\n",
    "Cc = C\n",
    "Dc = D\n",
    "\n",
    "\n",
    "## Terminar simulacion"
   ]
  },
  {
   "cell_type": "markdown",
   "metadata": {},
   "source": [
    "## Tiempo de simulacion e integración"
   ]
  },
  {
   "cell_type": "code",
   "execution_count": 80,
   "metadata": {},
   "outputs": [
    {
     "name": "stdout",
     "output_type": "stream",
     "text": [
      "Polos: [ 0.00000000e+00 -7.33903117e+00 -3.78077870e+04]\n",
      "Tiempo de integración de Euler: -0.006989109759380351\n"
     ]
    }
   ],
   "source": [
    "# Definir el tiempo de simulación y tiempo de integración\n",
    "#Tiempo de integracion de euler -> obtener polos lazo abierto\n",
    "\n",
    "poles= np.linalg.eigvals(A)\n",
    "print('Polos:', poles)\n",
    "\n",
    "#El polo mayor es 0 pero no es parte de la dinamica de el sistema(indica no estabilidad)\n",
    "dominant_complex_pole = poles[1]  # Se elige uno de los polos complejos conjugados\n",
    "\n",
    "#Tiempo intrgracion de euler\n",
    "tR = np.log(0.95) / np.abs(dominant_complex_pole.real)\n",
    "print('Tiempo de integración de Euler:', tR)\n",
    "\n",
    "#Tiempo de simulacion"
   ]
  },
  {
   "cell_type": "code",
   "execution_count": 85,
   "metadata": {},
   "outputs": [
    {
     "data": {
      "image/png": "[encoded data removed]",
      "text/plain": [
       "<Figure size 1000x400 with 1 Axes>"
      ]
     },
     "metadata": {},
     "output_type": "display_data"
    },
    {
     "data": {
      "image/png": "[encoded data removed]",
      "text/plain": [
       "<Figure size 1000x400 with 1 Axes>"
      ]
     },
     "metadata": {},
     "output_type": "display_data"
    }
   ],
   "source": [
    "# Definir el tiempo de integración y simulación\n",
    "h = 0.01  # Intervalo de tiempo de integración\n",
    "simTime = 15\n",
    "  # Tiempo total de simulación\n",
    "t = np.arange(0, simTime, h)\n",
    "\n",
    "# Frequency of the signal\n",
    "frequency = 0.1  # Frequency of the signal in Hz (every 10 seconds)\n",
    "\n",
    "# Generate square signal with sign change every 5 seconds\n",
    "reference = np.pi/2 * signal.square(2 * np.pi * frequency * t, duty=0.5)\n",
    "\n",
    "# Definir el torque de entrada\n",
    "torque_reference = 1.1e-3 * signal.square(2 * np.pi * frequency * t, duty=0.5)\n",
    "\n",
    "#visualizacion torque\n",
    "plt.figure(figsize=(10, 4))\n",
    "plt.plot(t, torque_reference, drawstyle='steps-pre')\n",
    "plt.title('Torque del sistema')\n",
    "plt.xlabel('Tiempo (s)')\n",
    "plt.ylabel('Torque (Nm)')\n",
    "plt.grid(True)\n",
    "plt.show()\n",
    "\n",
    "# Visualize the input signal\n",
    "plt.figure(figsize=(10, 4))\n",
    "plt.plot(t, reference, drawstyle='steps-pre')\n",
    "plt.title('Referencia del sistema')\n",
    "plt.xlabel('Tiempo (s)')\n",
    "plt.ylabel('Voltaje (V)')\n",
    "plt.grid(True)\n",
    "plt.show()"
   ]
  }
 ],
 "metadata": {
  "kernelspec": {
   "display_name": "Python 3",
   "language": "python",
   "name": "python3"
  },
  "language_info": {
   "codemirror_mode": {
    "name": "ipython",
    "version": 3
   },
   "file_extension": ".py",
   "mimetype": "text/x-python",
   "name": "python",
   "nbconvert_exporter": "python",
   "pygments_lexer": "ipython3",
   "version": "3.10.12"
  }
 },
 "nbformat": 4,
 "nbformat_minor": 2
}
